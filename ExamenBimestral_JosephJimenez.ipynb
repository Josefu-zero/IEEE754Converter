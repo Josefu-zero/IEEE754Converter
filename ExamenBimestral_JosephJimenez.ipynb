{
 "cells": [
  {
   "cell_type": "markdown",
   "id": "cb61523c-7453-4a84-904c-8bd69edbae00",
   "metadata": {
    "editable": true,
    "slideshow": {
     "slide_type": "slide"
    },
    "tags": []
   },
   "source": [
    "# Proyecto Bimestral\n",
    "Nombre: Joseph Jimenez"
   ]
  },
  {
   "cell_type": "markdown",
   "id": "c5006fd9-3831-4585-883d-31b631f96b00",
   "metadata": {
    "editable": true,
    "slideshow": {
     "slide_type": "slide"
    },
    "tags": []
   },
   "source": [
    "# **Código:**"
   ]
  },
  {
   "cell_type": "code",
   "execution_count": null,
   "id": "132cc781-29ee-4b03-8d41-ebbd76c5aa2a",
   "metadata": {
    "editable": true,
    "slideshow": {
     "slide_type": "subslide"
    },
    "tags": []
   },
   "outputs": [],
   "source": [
    " num0 = float(input(\"Ingrese un número decimal: \"))\n",
    "    number=num0\n",
    "    # Punto a) El número dado\n",
    "    print(\"Número dado:\", number)"
   ]
  },
  {
   "cell_type": "code",
   "execution_count": null,
   "id": "b4981ec9-35ca-4633-b69d-53c7d172fab8",
   "metadata": {
    "editable": true,
    "slideshow": {
     "slide_type": ""
    },
    "tags": []
   },
   "outputs": [],
   "source": [
    "# Determinar el signo (bit de signo)\n",
    "    sign_bit = 1 if number < 0 else 0\n",
    "    print(\"Bit del signo:\", sign_bit)"
   ]
  },
  {
   "cell_type": "code",
   "execution_count": null,
   "id": "b5eb2ab1-bb7e-4d63-bc05-cf9cadbe52fa",
   "metadata": {
    "editable": true,
    "slideshow": {
     "slide_type": ""
    },
    "tags": []
   },
   "outputs": [],
   "source": [
    "# Convertir el número a positivo si es negativo\n",
    "    number = abs(number)"
   ]
  },
  {
   "cell_type": "code",
   "execution_count": 13,
   "id": "c1f3571e-6a32-4d7b-bc0d-a6c3d7843eff",
   "metadata": {
    "editable": true,
    "slideshow": {
     "slide_type": "subslide"
    },
    "tags": []
   },
   "outputs": [
    {
     "name": "stdout",
     "output_type": "stream",
     "text": [
      "Exponente: 3\n",
      "Valor Mantisa: 1.1875\n"
     ]
    }
   ],
   "source": [
    "# Obtener el exponente en base 2\n",
    "number = 9.5\n",
    "exponent = 0\n",
    "if number != 0.0:\n",
    "    while number >= 2.0:\n",
    "        number /= 2.0\n",
    "        exponent += 1\n",
    "    while number < 1.0:\n",
    "        number *= 2.0\n",
    "        exponent -= 1\n",
    "print(\"Exponente:\", exponent)\n",
    "print(\"Valor Mantisa:\", number)"
   ]
  },
  {
   "cell_type": "markdown",
   "id": "eda51733-217b-460e-9839-f667ef779fa6",
   "metadata": {
    "editable": true,
    "slideshow": {
     "slide_type": ""
    },
    "tags": []
   },
   "source": [
    "- Se utiliza un bucle while para dividir el number por 2 hasta que su valor sea menor que 2.0. Por cada división, se incrementa el exponent en 1. Este proceso normaliza el número hacia el rango [1.0, 2.0) desde valores mayores o iguales a 2.0."
   ]
  },
  {
   "cell_type": "markdown",
   "id": "ad47cd2b-58da-4e89-8d99-6c0851d7ccee",
   "metadata": {
    "editable": true,
    "slideshow": {
     "slide_type": ""
    },
    "tags": []
   },
   "source": [
    "- Se utiliza otro bucle while para multiplicar el number por 2 hasta que su valor sea mayor o igual a 1.0. Por cada multiplicación, se decrementa el exponent en 1. Este proceso normaliza el número hacia el rango [1.0, 2.0) desde valores menores a 1.0."
   ]
  },
  {
   "cell_type": "code",
   "execution_count": null,
   "id": "f1af1933-6002-4c38-b41b-a6324f6c2cf1",
   "metadata": {
    "editable": true,
    "slideshow": {
     "slide_type": "subslide"
    },
    "tags": []
   },
   "outputs": [],
   "source": [
    "# Exponente sesgado\n",
    "    biased_exponent = exponent + 127\n",
    "    print(\"Exponente sesgado:\", biased_exponent)"
   ]
  },
  {
   "cell_type": "code",
   "execution_count": null,
   "id": "ba3ee645-eed7-4ff4-b915-b0bb719b52dc",
   "metadata": {
    "editable": true,
    "slideshow": {
     "slide_type": ""
    },
    "tags": []
   },
   "outputs": [],
   "source": [
    " # Convertir el número a la mantisa (omitiendo el bit implícito)\n",
    "    number -= 1.0  # Quitar el 1 implícito\n",
    "    mantissa = []\n",
    "    for _ in range(23):\n",
    "        number *= 2\n",
    "        if number >= 1.0:\n",
    "            mantissa.append('1')\n",
    "            number -= 1.0\n",
    "        else:\n",
    "            mantissa.append('0')\n",
    "    mantissa = ''.join(mantissa)\n",
    "    print(\"Mantisa:\", mantissa)"
   ]
  },
  {
   "cell_type": "markdown",
   "id": "b4d5887d-028a-48cc-a1fc-f54eceb2e6d3",
   "metadata": {
    "editable": true,
    "slideshow": {
     "slide_type": ""
    },
    "tags": []
   },
   "source": [
    "Se verifica si el resultado de la multiplicación es mayor o igual a 1.0:\n",
    "- Si es mayor o igual a 1.0, se agrega un '1' a la lista mantissa y se resta 1.0 de number para eliminar la parte entera.\n",
    "- Si es menor que 1.0, se agrega un '0' a la lista mantissa."
   ]
  },
  {
   "cell_type": "code",
   "execution_count": null,
   "id": "ecf9a846-2044-4d17-9e8b-38cddf5508dd",
   "metadata": {
    "editable": true,
    "slideshow": {
     "slide_type": "subslide"
    },
    "tags": []
   },
   "outputs": [],
   "source": [
    " # Construir el formato IEEE 754 en binario\n",
    "    ieee754_binary = f\"{sign_bit:1b}{biased_exponent:08b}{mantissa:23}\"\n",
    "    print(\"Formato IEEE 754 (binario):\", ieee754_binary)"
   ]
  },
  {
   "cell_type": "markdown",
   "id": "052b4427-9eb6-4681-ba5e-69a1875fb88f",
   "metadata": {
    "editable": true,
    "slideshow": {
     "slide_type": ""
    },
    "tags": []
   },
   "source": [
    "- Utiliza una f-string para formatear sign_bit en binario con una longitud de 1 bit.\n",
    "- Utiliza una f-string para formatear biased_exponent en binario con una longitud de 8 bits. Aquí 08b significa que el número se debe rellenar con ceros a la izquierda para que tenga exactamente 8 bits."
   ]
  },
  {
   "cell_type": "code",
   "execution_count": null,
   "id": "d35aa8f6-5787-4cae-b00e-cf8ed02b2d79",
   "metadata": {
    "editable": true,
    "slideshow": {
     "slide_type": "subslide"
    },
    "tags": []
   },
   "outputs": [],
   "source": [
    "    # Divide la cadena binaria en segmentos de 4 bits\n",
    "    segments = [ieee754_binary[i:i+4] for i in range(0, len(ieee754_binary), 4)]"
   ]
  },
  {
   "cell_type": "markdown",
   "id": "d7f68838-9c84-441f-8cf9-3049d71c4181",
   "metadata": {
    "editable": true,
    "slideshow": {
     "slide_type": ""
    },
    "tags": []
   },
   "source": [
    "- range(0, len(ieee754_binary), 4) genera una secuencia de índices que van desde 0 hasta la longitud de ieee754_binary, avanzando de 4 en 4.\n",
    "- ieee754_binary[i:i+4] toma un segmento de 4 bits de ieee754_binary a partir del índice i.\n"
   ]
  },
  {
   "cell_type": "code",
   "execution_count": null,
   "id": "c5171cd3-eb1a-4973-a3ef-912845c3017b",
   "metadata": {
    "editable": true,
    "slideshow": {
     "slide_type": "subslide"
    },
    "tags": []
   },
   "outputs": [],
   "source": [
    "  # Convierte cada segmento de 4 bits a su valor hexadecimal\n",
    "    hex_segments = [hex(int(segment, 2))[2:].upper() for segment in segments]"
   ]
  },
  {
   "cell_type": "markdown",
   "id": "1c02a6bf-b858-45b0-b3b2-7f4246acd1df",
   "metadata": {
    "editable": true,
    "slideshow": {
     "slide_type": ""
    },
    "tags": []
   },
   "source": [
    "- int(segment, 2) convierte el segmento binario a un entero (base 2).\n",
    "- hex(...)[2:] convierte el entero a una cadena hexadecimal, eliminando el prefijo 0x usando el índice [2:].\n",
    "- .upper() convierte la cadena hexadecimal a mayúsculas para cumplir con las convenciones estándar."
   ]
  },
  {
   "cell_type": "markdown",
   "id": "f6b95b76-8ee1-475e-9dc6-e6d8fcb2f53d",
   "metadata": {
    "editable": true,
    "slideshow": {
     "slide_type": "slide"
    },
    "tags": []
   },
   "source": [
    "# Ejecucion del Codigo"
   ]
  },
  {
   "cell_type": "code",
   "execution_count": 26,
   "id": "7cd991bc-1f4c-46b7-9a39-dd8f24c5ed3c",
   "metadata": {
    "editable": true,
    "slideshow": {
     "slide_type": "subslide"
    },
    "tags": []
   },
   "outputs": [
    {
     "name": "stdin",
     "output_type": "stream",
     "text": [
      "Ingrese un número decimal:  4.5\n"
     ]
    },
    {
     "name": "stdout",
     "output_type": "stream",
     "text": [
      "Número dado: 4.5\n",
      "Bit del signo: 0\n",
      "Exponente: 2\n",
      "Valor Mantisa: 1.125\n",
      "Exponente sesgado: 129\n",
      "Mantisa: 00100000000000000000000\n",
      "Formato IEEE 754 (binario): 01000000100100000000000000000000\n",
      "Formato IEEE 754 (hexadecimal): 40900000\n"
     ]
    }
   ],
   "source": [
    "def ieee754_converter():\n",
    "    num0 = float(input(\"Ingrese un número decimal: \"))\n",
    "    number=num0\n",
    "    # Punto a) El número dado\n",
    "    print(\"Número dado:\", number)\n",
    "\n",
    "    # Determinar el signo (bit de signo)\n",
    "    sign_bit = 1 if number < 0 else 0\n",
    "    print(\"Bit del signo:\", sign_bit)\n",
    "\n",
    "    # Convertir el número a positivo si es negativo\n",
    "    number = abs(number)\n",
    "\n",
    "    # Obtener el exponente en base 2\n",
    "    exponent = 0\n",
    "    if number != 0.0:\n",
    "        while number >= 2.0:\n",
    "            number /= 2.0\n",
    "            exponent += 1\n",
    "        while number < 1.0:\n",
    "            number *= 2.0\n",
    "            exponent -= 1\n",
    "    print(\"Exponente:\", exponent)\n",
    "    print(\"Valor Mantisa:\", number)\n",
    "\n",
    "    # Exponente sesgado\n",
    "    biased_exponent = exponent + 127\n",
    "    print(\"Exponente sesgado:\", biased_exponent)\n",
    "\n",
    "    # Convertir el número a la mantisa (omitiendo el bit implícito)\n",
    "    number -= 1.0  # Quitar el 1 implícito\n",
    "    mantissa = []\n",
    "    for _ in range(23):\n",
    "        number *= 2\n",
    "        if number >= 1.0:\n",
    "            mantissa.append('1')\n",
    "            number -= 1.0\n",
    "        else:\n",
    "            mantissa.append('0')\n",
    "    mantissa = ''.join(mantissa)\n",
    "    print(\"Mantisa:\", mantissa)\n",
    "\n",
    "    # Construir el formato IEEE 754 en binario\n",
    "    ieee754_binary = f\"{sign_bit:1b}{biased_exponent:08b}{mantissa:23}\"\n",
    "    print(\"Formato IEEE 754 (binario):\", ieee754_binary)\n",
    "    \n",
    "    # Verifica que la longitud del binario IEEE 754 sea de 32 bits\n",
    "    assert len(ieee754_binary) == 32, \"La representación binaria IEEE 754 debe tener 32 bits.\"\n",
    "    \n",
    "    # Divide la cadena binaria en segmentos de 4 bits\n",
    "    segments = [ieee754_binary[i:i+4] for i in range(0, len(ieee754_binary), 4)]\n",
    "    \n",
    "    # Convierte cada segmento de 4 bits a su valor hexadecimal\n",
    "    hex_segments = [hex(int(segment, 2))[2:].upper() for segment in segments]\n",
    "    \n",
    "    # Une todos los segmentos hexadecimales en una sola cadena\n",
    "    ieee754_hex = ''.join(hex_segments)\n",
    "    print(\"Formato IEEE 754 (hexadecimal):\", ieee754_hex)\n",
    "    return ieee754_hex\n",
    "    \n",
    "\n",
    "if __name__ == \"__main__\":\n",
    "    ieee754_converter()\n"
   ]
  },
  {
   "cell_type": "code",
   "execution_count": null,
   "id": "d996ab7f-7552-4a96-b867-0bcd4f41eb43",
   "metadata": {
    "editable": true,
    "slideshow": {
     "slide_type": ""
    },
    "tags": []
   },
   "outputs": [],
   "source": []
  }
 ],
 "metadata": {
  "kernelspec": {
   "display_name": "Python 3 (ipykernel)",
   "language": "python",
   "name": "python3"
  },
  "language_info": {
   "codemirror_mode": {
    "name": "ipython",
    "version": 3
   },
   "file_extension": ".py",
   "mimetype": "text/x-python",
   "name": "python",
   "nbconvert_exporter": "python",
   "pygments_lexer": "ipython3",
   "version": "3.11.9"
  }
 },
 "nbformat": 4,
 "nbformat_minor": 5
}
